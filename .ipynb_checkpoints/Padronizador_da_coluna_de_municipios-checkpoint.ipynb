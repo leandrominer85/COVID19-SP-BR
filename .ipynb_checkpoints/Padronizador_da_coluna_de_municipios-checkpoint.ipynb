{
 "cells": [
  {
   "cell_type": "code",
   "execution_count": 3,
   "metadata": {},
   "outputs": [],
   "source": [
    "# função que, a partir de uma lista vazia lê o arquivo, retira todas as linhas sem dados da primeira coluna e salva arquivo\n",
    "# com a coluna padronizada com minusculas e sem acentuação\n",
    "def renomear(arquivo):\n",
    "    lista = []\n",
    "    df = pd.read_excel(arquivo,encoding=\"latin\")\n",
    "    df = df[df.iloc[:,1].notna()]\n",
    "    df = df[df.iloc[:,0].notna()]\n",
    "    for i in df.iloc[:,0]:\n",
    "        i = re.sub(\"_\", ' ', i)\n",
    "        i =  re.sub(\"-\", ' ', i)\n",
    "        i = re.sub(\"moji mirim\", \"mogi mirim\", i)\n",
    "        lista.append(unidecode.unidecode(i).lower())\n",
    "    df.iloc[:,0] = lista\n",
    "    \n",
    "    #limpeza das colunas com nomes não interessantes para a análise:\n",
    "    df = df[~df.iloc[:,0].isin(lista_palavras)]\n",
    "    df.to_excel(f'{f}', index= None)\n",
    "    df.to_excel(f'{arquivo}', index= None)"
   ]
  }
 ],
 "metadata": {
  "kernelspec": {
   "display_name": "Python 3",
   "language": "python",
   "name": "python3"
  },
  "language_info": {
   "codemirror_mode": {
    "name": "ipython",
    "version": 3
   },
   "file_extension": ".py",
   "mimetype": "text/x-python",
   "name": "python",
   "nbconvert_exporter": "python",
   "pygments_lexer": "ipython3",
   "version": "3.6.10"
  }
 },
 "nbformat": 4,
 "nbformat_minor": 4
}
