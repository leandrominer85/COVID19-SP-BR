{
 "cells": [
  {
   "cell_type": "code",
   "execution_count": 1,
   "metadata": {},
   "outputs": [],
   "source": [
    "import pandas as pd\n",
    "import glob\n",
    "import re"
   ]
  },
  {
   "cell_type": "code",
   "execution_count": 2,
   "metadata": {},
   "outputs": [],
   "source": [
    "#caminho da leitura\n",
    "path = r'D:\\Dropbox\\Pessoal\\Python\\COVID\\COVID19-SP-BR\\Dados'\n",
    "files = glob.glob(path + \"/*.xlsx\")"
   ]
  },
  {
   "cell_type": "code",
   "execution_count": 3,
   "metadata": {},
   "outputs": [],
   "source": [
    "#criação de uma função para a criação do dataframe basico\n",
    "def criador_df(files):\n",
    "    \n",
    "\n",
    "    # obtendo o nome das colunas a partir dos nomes de arquivos (necessário uma lista para cada mês para manter a ordenação):\n",
    "\n",
    "    colunas_mar= []\n",
    "    for i in files:\n",
    "        if \"mar\" in i:\n",
    "            colunas_mar.append(i.rpartition('\\\\')[2].replace(\".xlsx\", \"\"))\n",
    "    \n",
    "    colunas_abr= []\n",
    "    for i in files:\n",
    "        if \"abr\" in i:\n",
    "            colunas_abr.append(i.rpartition('\\\\')[2].replace(\".xlsx\", \"\"))\n",
    "        \n",
    "    colunas_mai=[]\n",
    "    for i in files:\n",
    "        if \"mai\" in i:\n",
    "            colunas_mai.append(i.rpartition('\\\\')[2].replace(\".xlsx\", \"\"))\n",
    "        \n",
    "    \n",
    "    colunas_jun=[]\n",
    "    for i in files:\n",
    "        if \"jun\" in i:\n",
    "            colunas_jun.append(i.rpartition('\\\\')[2].replace(\".xlsx\", \"\"))\n",
    "    \n",
    "    \n",
    "    colunas = colunas_mar+colunas_abr+colunas_mai+colunas_jun\n",
    "\n",
    "\n",
    "\n",
    "    #obtendo todos os nomes de cidades a partir da lista padronizada\n",
    "    df = pd.read_excel(r\"D:\\Dropbox\\Pessoal\\Python\\COVID\\COVID19-SP-BR\\tabelas_espelho\\pop_mun_padronizado.xlsx\")\n",
    "    indice=[]\n",
    "    [indice.append(i) for i in df[\"nome\"]]\n",
    "\n",
    "    df = pd.DataFrame(columns = colunas, index= indice)\n",
    "    df.to_excel(r\"D:\\Dropbox\\Pessoal\\Python\\COVID\\COVID19-SP-BR\\tabelas_analise\\tabela_base.xlsx\")"
   ]
  },
  {
   "cell_type": "code",
   "execution_count": 4,
   "metadata": {},
   "outputs": [],
   "source": [
    "criador_df(files)"
   ]
  },
  {
   "cell_type": "code",
   "execution_count": null,
   "metadata": {},
   "outputs": [],
   "source": []
  }
 ],
 "metadata": {
  "kernelspec": {
   "display_name": "Python 3",
   "language": "python",
   "name": "python3"
  },
  "language_info": {
   "codemirror_mode": {
    "name": "ipython",
    "version": 3
   },
   "file_extension": ".py",
   "mimetype": "text/x-python",
   "name": "python",
   "nbconvert_exporter": "python",
   "pygments_lexer": "ipython3",
   "version": "3.6.10"
  }
 },
 "nbformat": 4,
 "nbformat_minor": 4
}
