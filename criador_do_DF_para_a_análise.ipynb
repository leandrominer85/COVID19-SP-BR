{
 "cells": [
  {
   "cell_type": "code",
   "execution_count": 1,
   "metadata": {},
   "outputs": [],
   "source": [
    "import pandas as pd\n",
    "import glob"
   ]
  },
  {
   "cell_type": "code",
   "execution_count": 2,
   "metadata": {},
   "outputs": [],
   "source": [
    "\n",
    "def criador_df_analise(files):\n",
    "    \n",
    "\n",
    "    #Importação do dataframe padrao\n",
    "    df = pd.read_excel(r\"D:\\Dropbox\\Pessoal\\Python\\COVID\\COVID19-SP-BR\\tabelas_analise\\tabela_base.xlsx\", index_col=0)\n",
    "\n",
    "\n",
    "    #Para cada coluna do DF padrão procura a correnpondência no arquivo de dados e adiciona onde houver correspondência entre\n",
    "    # o nome do arquivo e a coluna padrão assim como onde o nome da cidade for semelhante entre os dois\n",
    "\n",
    "    # iterando entre as colunas\n",
    "    for col in list(df.columns):\n",
    "\n",
    "        #iterando entre os arquivos\n",
    "        for file in files:\n",
    "            f = pd.read_excel(file, index_col=0)\n",
    "\n",
    "            #criação de um dicionário para armazenar o valor e a chave\n",
    "            d = dict(f.iloc[:,0])\n",
    "\n",
    "            #verificando se o nome do arquivo tem correspondência com alguma coluna\n",
    "            if file.rpartition('\\\\')[2].replace(\".xlsx\", \"\") == col:\n",
    "\n",
    "                # se houver itera entre as chaves do dicionário e adiciona o valor dele na coluna do DF padrão\n",
    "                for i in d:\n",
    "                    try:\n",
    "                        df.loc[i, col] = d.get(i)\n",
    "                    except:\n",
    "                        continue\n",
    "\n",
    "    df.fillna(0, inplace = True)\n",
    "    df.to_csv(r\"D:\\Dropbox\\Pessoal\\Python\\COVID\\COVID19-SP-BR\\tabelas_analise\\infectados_municipio.csv\")\n",
    "\n"
   ]
  },
  {
   "cell_type": "code",
   "execution_count": null,
   "metadata": {},
   "outputs": [],
   "source": []
  }
 ],
 "metadata": {
  "kernelspec": {
   "display_name": "Python 3",
   "language": "python",
   "name": "python3"
  },
  "language_info": {
   "codemirror_mode": {
    "name": "ipython",
    "version": 3
   },
   "file_extension": ".py",
   "mimetype": "text/x-python",
   "name": "python",
   "nbconvert_exporter": "python",
   "pygments_lexer": "ipython3",
   "version": "3.6.10"
  }
 },
 "nbformat": 4,
 "nbformat_minor": 4
}
