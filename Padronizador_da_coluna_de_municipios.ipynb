{
 "cells": [
  {
   "cell_type": "code",
   "execution_count": 7,
   "metadata": {},
   "outputs": [],
   "source": [
    "import pandas as pd\n",
    "import re\n",
    "import unidecode"
   ]
  },
  {
   "cell_type": "code",
   "execution_count": 21,
   "metadata": {},
   "outputs": [],
   "source": [
    "# função que, a partir de uma lista vazia lê o arquivo, retira todas as linhas sem dados da primeira coluna e salva arquivo\n",
    "# com a coluna padronizada com minusculas e sem acentuação\n",
    "def renomear(arquivo):\n",
    "    lista_palavras= [\"total geral\", \"ignorado\", \"total\",\"nao informado\",\"none\",\"outro estado\" ,\"outro pais\",\n",
    "                     \"na?o informado\",\"Unnamed: 0\",\"cidade\",\"outros estados\",\"outros paises\",\"municipio\",\n",
    "                     \"municipio deresidencia\",\"municipio \",\"(vazio)\",\"municipios\",\"cidades\",\"Municípios\",\n",
    "                     \"MUNICIPIO\",\"Município\",\"MUNICÍPIO\",\"ignorado ou exterior\",\"MUNCIPIO\",\"NOME\",\"MUNICÍPIOS\",\n",
    "                     \"nafo informado\",\"escada\",\"salvador\",\"2020-06-21;\"]\n",
    "    lista = []\n",
    "    df = pd.read_excel(arquivo,encoding=\"latin\")\n",
    "    df = df[df.iloc[:,1].notna()]\n",
    "    df = df[df.iloc[:,0].notna()]\n",
    "    for i in df.iloc[:,0]:\n",
    "        i = re.sub(\"_\", ' ', i)\n",
    "        i =  re.sub(\"-\", ' ', i)\n",
    "        i = re.sub(\"moji mirim\", \"mogi mirim\", i)\n",
    "        i = re.sub(\"mog guacu\", \"mogi guacu\", i)\n",
    "        i = re.sub(\"bom jesus dos perda es\", \"bom jesus dos perdoes\", i)\n",
    "        i = re.sub(\"monca es\", \"moncoes\", i)\n",
    "        i = re.sub(\"sao paulo das missa es\", \"sao paulo das missoes\", i)\n",
    "        \n",
    "\n",
    "        lista.append(unidecode.unidecode(i).lower())\n",
    "    df.iloc[:,0] = lista\n",
    "    \n",
    "    #limpeza das colunas com nomes não interessantes para a análise:\n",
    "    df = df[~df.iloc[:,0].isin(lista_palavras)]\n",
    "    df.to_excel(f'{arquivo}', index= None)"
   ]
  },
  {
   "cell_type": "code",
   "execution_count": null,
   "metadata": {},
   "outputs": [],
   "source": []
  }
 ],
 "metadata": {
  "kernelspec": {
   "display_name": "Python 3",
   "language": "python",
   "name": "python3"
  },
  "language_info": {
   "codemirror_mode": {
    "name": "ipython",
    "version": 3
   },
   "file_extension": ".py",
   "mimetype": "text/x-python",
   "name": "python",
   "nbconvert_exporter": "python",
   "pygments_lexer": "ipython3",
   "version": "3.6.10"
  }
 },
 "nbformat": 4,
 "nbformat_minor": 4
}
