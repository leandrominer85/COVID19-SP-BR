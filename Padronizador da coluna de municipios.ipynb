{
 "cells": [
  {
   "cell_type": "code",
   "execution_count": 1,
   "metadata": {},
   "outputs": [],
   "source": [
    "import pandas as pd\n",
    "import glob\n",
    "import unidecode\n",
    "import re"
   ]
  },
  {
   "cell_type": "code",
   "execution_count": 2,
   "metadata": {},
   "outputs": [],
   "source": [
    "#caminho da leitura\n",
    "path = r'D:\\Dropbox\\Pessoal\\Python\\COVID\\COVID19-SP-BR\\Dados'\n",
    "files = glob.glob(path + \"/*.xlsx\")"
   ]
  },
  {
   "cell_type": "code",
   "execution_count": 3,
   "metadata": {},
   "outputs": [],
   "source": [
    "# função que, a partir de uma lista vazia lê o arquivo, retira todas as linhas sem dados da primeira coluna e salva arquivo\n",
    "# com a coluna padronizada com minusculas e sem acentuação\n",
    "def renomear(arquivo):\n",
    "    lista = []\n",
    "    df = pd.read_excel(arquivo,encoding=\"latin\")\n",
    "    df = df[df.iloc[:,1].notna()]\n",
    "    df = df[df.iloc[:,0].notna()]\n",
    "    for i in df.iloc[:,0]:\n",
    "        i = re.sub(\"_\", ' ', i)\n",
    "        i =  re.sub(\"-\", ' ', i)\n",
    "        i = re.sub(\"moji mirim\", \"mogi mirim\", i)\n",
    "        lista.append(unidecode.unidecode(i).lower())\n",
    "    df.iloc[:,0] = lista\n",
    "    df.to_excel(f'{arquivo}', index= None)"
   ]
  },
  {
   "cell_type": "code",
   "execution_count": 4,
   "metadata": {},
   "outputs": [
    {
     "data": {
      "text/plain": [
       "[None,\n",
       " None,\n",
       " None,\n",
       " None,\n",
       " None,\n",
       " None,\n",
       " None,\n",
       " None,\n",
       " None,\n",
       " None,\n",
       " None,\n",
       " None,\n",
       " None,\n",
       " None,\n",
       " None,\n",
       " None,\n",
       " None,\n",
       " None,\n",
       " None,\n",
       " None,\n",
       " None,\n",
       " None,\n",
       " None,\n",
       " None,\n",
       " None,\n",
       " None,\n",
       " None,\n",
       " None,\n",
       " None,\n",
       " None,\n",
       " None,\n",
       " None,\n",
       " None,\n",
       " None,\n",
       " None,\n",
       " None,\n",
       " None,\n",
       " None,\n",
       " None,\n",
       " None,\n",
       " None,\n",
       " None,\n",
       " None,\n",
       " None,\n",
       " None,\n",
       " None,\n",
       " None,\n",
       " None,\n",
       " None,\n",
       " None,\n",
       " None,\n",
       " None,\n",
       " None,\n",
       " None,\n",
       " None,\n",
       " None,\n",
       " None,\n",
       " None,\n",
       " None,\n",
       " None,\n",
       " None,\n",
       " None,\n",
       " None,\n",
       " None,\n",
       " None,\n",
       " None,\n",
       " None,\n",
       " None,\n",
       " None,\n",
       " None,\n",
       " None,\n",
       " None,\n",
       " None,\n",
       " None,\n",
       " None,\n",
       " None,\n",
       " None,\n",
       " None,\n",
       " None,\n",
       " None,\n",
       " None,\n",
       " None,\n",
       " None,\n",
       " None,\n",
       " None,\n",
       " None,\n",
       " None,\n",
       " None,\n",
       " None,\n",
       " None,\n",
       " None,\n",
       " None,\n",
       " None,\n",
       " None,\n",
       " None,\n",
       " None,\n",
       " None,\n",
       " None,\n",
       " None,\n",
       " None,\n",
       " None]"
      ]
     },
     "execution_count": 4,
     "metadata": {},
     "output_type": "execute_result"
    }
   ],
   "source": [
    "# aciona a função passando a lista em files\n",
    "[renomear(f) for f in files]\n"
   ]
  },
  {
   "cell_type": "code",
   "execution_count": 5,
   "metadata": {},
   "outputs": [],
   "source": [
    "#limpeza das colunas com nomes não interessantes para a análise:\n",
    "lista_palavras= [\"total geral\", \"ignorado\", \"total\",\"nao informado\",\"none\",\"outro estado\" ,\"outro pais\"]\n",
    "\n",
    "for f in files:\n",
    "    df = pd.read_excel(f,encoding=\"latin\")\n",
    "    df = df[~df.iloc[:,0].isin(lista_palavras)]\n",
    "    df.to_excel(f'{f}', index= None)"
   ]
  },
  {
   "cell_type": "code",
   "execution_count": null,
   "metadata": {},
   "outputs": [],
   "source": []
  }
 ],
 "metadata": {
  "kernelspec": {
   "display_name": "Python 3",
   "language": "python",
   "name": "python3"
  },
  "language_info": {
   "codemirror_mode": {
    "name": "ipython",
    "version": 3
   },
   "file_extension": ".py",
   "mimetype": "text/x-python",
   "name": "python",
   "nbconvert_exporter": "python",
   "pygments_lexer": "ipython3",
   "version": "3.6.10"
  }
 },
 "nbformat": 4,
 "nbformat_minor": 4
}
